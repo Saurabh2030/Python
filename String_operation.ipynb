{
 "cells": [
  {
   "cell_type": "code",
   "execution_count": 1,
   "metadata": {
    "collapsed": true
   },
   "outputs": [],
   "source": [
    "# encoding: utf-8\n",
    "someString = \"I am Maitreyee. I am software Engineer.\"\n"
   ]
  },
  {
   "cell_type": "code",
   "execution_count": 3,
   "metadata": {
    "collapsed": false
   },
   "outputs": [
    {
     "name": "stdout",
     "output_type": "stream",
     "text": [
      "The length of I am Maitreyee. I am software Engineer. is : 39\n"
     ]
    }
   ],
   "source": [
    "print \"The length of \"+someString+ \" is : \"+str(len(someString))"
   ]
  },
  {
   "cell_type": "code",
   "execution_count": 4,
   "metadata": {
    "collapsed": false
   },
   "outputs": [
    {
     "name": "stdout",
     "output_type": "stream",
     "text": [
      "someString[0]: I\n"
     ]
    }
   ],
   "source": [
    "#Accessing Values in Strings:\n",
    "#We use square brackets [] and : operators for slicing along with the index or indices to obtain a substring.\n",
    "\n",
    "print \"someString[0]:\",someString[0]\n",
    "\n"
   ]
  },
  {
   "cell_type": "code",
   "execution_count": 6,
   "metadata": {
    "collapsed": false
   },
   "outputs": [
    {
     "name": "stdout",
     "output_type": "stream",
     "text": [
      "I am \n"
     ]
    }
   ],
   "source": [
    "#Various String Operators:\n",
    "\n",
    "#There are various string operators that can be used in different ways like concatenating different string.\n",
    "\n",
    "\n",
    "print someString[:5]"
   ]
  },
  {
   "cell_type": "code",
   "execution_count": 7,
   "metadata": {
    "collapsed": false
   },
   "outputs": [
    {
     "name": "stdout",
     "output_type": "stream",
     "text": [
      "aitreyee. I am software Engineer.\n"
     ]
    }
   ],
   "source": [
    "print someString[6:]"
   ]
  },
  {
   "cell_type": "code",
   "execution_count": 7,
   "metadata": {
    "collapsed": false
   },
   "outputs": [
    {
     "name": "stdout",
     "output_type": "stream",
     "text": [
      "reyee\n"
     ]
    }
   ],
   "source": [
    "print(someString[9:14])"
   ]
  },
  {
   "cell_type": "code",
   "execution_count": 8,
   "metadata": {
    "collapsed": false
   },
   "outputs": [
    {
     "name": "stdout",
     "output_type": "stream",
     "text": [
      "2\n"
     ]
    }
   ],
   "source": [
    "#COUNT occurance of word in a given string\n",
    "\n",
    "# the count function returns how often a substring appears in a string \n",
    "\n",
    "print(someString.count(\"am\"))"
   ]
  },
  {
   "cell_type": "code",
   "execution_count": 27,
   "metadata": {
    "collapsed": false
   },
   "outputs": [
    {
     "name": "stdout",
     "output_type": "stream",
     "text": [
      "2\n",
      "2\n"
     ]
    }
   ],
   "source": [
    "#INDEX: get the index of the any word in a String\n",
    "# the index function will return the first index where a given substring appears\n",
    "# remember that strings - being lists are indexed from zero\n",
    "\n",
    "print(someString.index(\"am\"))\n",
    "print someString.find(\"am\")\n"
   ]
  },
  {
   "cell_type": "code",
   "execution_count": 9,
   "metadata": {
    "collapsed": false
   },
   "outputs": [
    {
     "name": "stdout",
     "output_type": "stream",
     "text": [
      "i am maitreyee. i am software engineer.\n",
      "I AM MAITREYEE. I AM SOFTWARE ENGINEER.\n"
     ]
    }
   ],
   "source": [
    "# In addition to being lists, strings have other nifty functions too - \n",
    "# for instance, to convert case, use lower() and upper() respectively\n",
    "#Changing upper and lower case strings\n",
    "\n",
    "print(someString.lower())\n",
    "print (someString.upper())"
   ]
  },
  {
   "cell_type": "code",
   "execution_count": 13,
   "metadata": {
    "collapsed": false
   },
   "outputs": [
    {
     "name": "stdout",
     "output_type": "stream",
     "text": [
      "['I', 'am', 'Maitreyee.', 'I', 'am', 'software', 'Engineer.']\n"
     ]
    },
    {
     "data": {
      "text/plain": [
       "list"
      ]
     },
     "execution_count": 13,
     "metadata": {},
     "output_type": "execute_result"
    }
   ],
   "source": [
    "# to split a string into words or sub-strings separated by some character, use the split() function\n",
    "spltedStrList=someString.split(' ')\n",
    "print(spltedStrList)\n",
    "type(spltedStrList)"
   ]
  },
  {
   "cell_type": "code",
   "execution_count": 14,
   "metadata": {
    "collapsed": false
   },
   "outputs": [
    {
     "name": "stdout",
     "output_type": "stream",
     "text": [
      "I am Maitreyee. I am software Engineer.\n"
     ]
    }
   ],
   "source": [
    "#Join operation:\n",
    "\n",
    "#It will join all the elements od the list.\n",
    "\n",
    "joinedStr= ' '.join(spltedStrList)\n",
    "print joinedStr"
   ]
  },
  {
   "cell_type": "code",
   "execution_count": 14,
   "metadata": {
    "collapsed": false
   },
   "outputs": [
    {
     "name": "stdout",
     "output_type": "stream",
     "text": [
      "I am Maitreyee. I am hardware Engineer.\n",
      "I am Maitreyee. I am software Engineer.\n"
     ]
    }
   ],
   "source": [
    "# Python String replace() Method:\n",
    "# Values of old string have been replaced with the new value.\n",
    "\n",
    "print joinedStr.replace('software','hardware')\n",
    "print joinedStr"
   ]
  },
  {
   "cell_type": "code",
   "execution_count": 20,
   "metadata": {
    "collapsed": false
   },
   "outputs": [
    {
     "name": "stdout",
     "output_type": "stream",
     "text": [
      "nohtyP\n"
     ]
    }
   ],
   "source": [
    "#Reversing String:\n",
    "#By using the reverse function, you can reverse the string.\n",
    "\n",
    "word=\"Python\"\n",
    "\n",
    "print \"\".join(reversed(word))\n"
   ]
  },
  {
   "cell_type": "code",
   "execution_count": 26,
   "metadata": {
    "collapsed": false
   },
   "outputs": [
    {
     "name": "stdout",
     "output_type": "stream",
     "text": [
      "False\n",
      "True\n",
      "True\n"
     ]
    }
   ],
   "source": [
    "# there are easy ways to check if strings end with or start with specific character sequences\n",
    "\n",
    "print(someString.startswith(\"Some\"))\n",
    "print(someString.endswith(\"Engineer.\"))\n",
    "print \"am\" in someString\n"
   ]
  },
  {
   "cell_type": "code",
   "execution_count": 36,
   "metadata": {
    "collapsed": false
   },
   "outputs": [
    {
     "name": "stdout",
     "output_type": "stream",
     "text": [
      ".\n",
      ".\n"
     ]
    },
    {
     "data": {
      "text/plain": [
       "'neer.'"
      ]
     },
     "execution_count": 36,
     "metadata": {},
     "output_type": "execute_result"
    }
   ],
   "source": [
    "# one last trick - the indexing operator [] can take in negative numbers too.\n",
    "# They are interpreted as being 'from the end of the string'\n",
    "print(someString[len(someString)-1])\n",
    "      \n",
    "print someString[-1]\n",
    "\n",
    "someString[-5:]"
   ]
  },
  {
   "cell_type": "code",
   "execution_count": 20,
   "metadata": {
    "collapsed": false
   },
   "outputs": [
    {
     "data": {
      "text/plain": [
       "'gine'"
      ]
     },
     "execution_count": 20,
     "metadata": {},
     "output_type": "execute_result"
    }
   ],
   "source": [
    "someString[-7:-3]"
   ]
  },
  {
   "cell_type": "code",
   "execution_count": 37,
   "metadata": {
    "collapsed": false
   },
   "outputs": [
    {
     "name": "stdout",
     "output_type": "stream",
     "text": [
      "('str1 + str2 = ', 'HelloWorld!')\n"
     ]
    }
   ],
   "source": [
    "#In Python, there are a few ways to concatenate – or combine - strings.In order to merge two strings into a single object, you may use the “+” operator.\n",
    "\n",
    "str1 = 'Hello'\n",
    "str2 ='World!'\n",
    "# using + operator\n",
    "print('str1 + str2 = ', str1 + str2)"
   ]
  },
  {
   "cell_type": "code",
   "execution_count": 42,
   "metadata": {
    "collapsed": false
   },
   "outputs": [
    {
     "name": "stdout",
     "output_type": "stream",
     "text": [
      "('str1 * 3 =', 'HelloHelloHello')\n"
     ]
    }
   ],
   "source": [
    "# using * operator\n",
    "\n",
    "print('str1 * 3 =', str1 * 3)\n",
    "\n",
    "#Notice how multiplying the string “Hello” three times returns the value"
   ]
  },
  {
   "cell_type": "code",
   "execution_count": 23,
   "metadata": {
    "collapsed": false
   },
   "outputs": [
    {
     "name": "stdout",
     "output_type": "stream",
     "text": [
      "Hello World!\n"
     ]
    }
   ],
   "source": [
    "# Writing two string literals together also concatenates them like + operator.\n",
    "conStr='Hello ''World!'\n",
    "print conStr\n"
   ]
  }
 ],
 "metadata": {
  "kernelspec": {
   "display_name": "Python 2",
   "language": "python",
   "name": "python2"
  },
  "language_info": {
   "codemirror_mode": {
    "name": "ipython",
    "version": 2
   },
   "file_extension": ".py",
   "mimetype": "text/x-python",
   "name": "python",
   "nbconvert_exporter": "python",
   "pygments_lexer": "ipython2",
   "version": "2.7.13"
  }
 },
 "nbformat": 4,
 "nbformat_minor": 2
}
