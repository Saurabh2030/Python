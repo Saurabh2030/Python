{
 "cells": [
  {
   "cell_type": "code",
   "execution_count": 1,
   "metadata": {
    "collapsed": true
   },
   "outputs": [],
   "source": [
    "# Step 1: Define the function\n",
    "def functionThatModifiesNumber(someNumber):\n",
    "    print(\"Argument (input) passed in = \", someNumber)\n",
    "    someNumber = someNumber * 10\n",
    "    print(\"After modification, but inside function, value = \",someNumber)\n",
    "    return"
   ]
  },
  {
   "cell_type": "code",
   "execution_count": 2,
   "metadata": {
    "collapsed": false
   },
   "outputs": [
    {
     "name": "stdout",
     "output_type": "stream",
     "text": [
      "('Value of the variable in calling code before function: ', 11)\n",
      "('Argument (input) passed in = ', 11)\n",
      "('After modification, but inside function, value = ', 110)\n",
      "('Value of variable in calling code after function: ', 11)\n"
     ]
    }
   ],
   "source": [
    "# Step 2: Call the function\n",
    "# Before the function calls\n",
    "someNumber = 11\n",
    "print(\"Value of the variable in calling code before function: \", someNumber)\n",
    "functionThatModifiesNumber(someNumber)\n",
    "print(\"Value of variable in calling code after function: \",someNumber)\n"
   ]
  },
  {
   "cell_type": "code",
   "execution_count": 3,
   "metadata": {
    "collapsed": false
   },
   "outputs": [
    {
     "name": "stdout",
     "output_type": "stream",
     "text": [
      "('Radius = ', 5, 'Area = ', 78.5)\n"
     ]
    }
   ],
   "source": [
    "###################################################################\n",
    "# A simple function that takes in a circle's radius, returns its area\n",
    "###################################################################\n",
    "# Step 1: Define the function \n",
    "def calculateAreaOfTheCircle(radius):\n",
    "    # we are inside the function body now, as the indentation shows\n",
    "    area = 3.14 * radius * radius\n",
    "    # Now return the area ie send it back to the calling function\n",
    "    return area\n",
    "\n",
    "# step 2: call the function\n",
    "radius = 5\n",
    "area = calculateAreaOfTheCircle(radius)\n",
    "print(\"Radius = \", radius, \"Area = \",area)\n"
   ]
  },
  {
   "cell_type": "code",
   "execution_count": 4,
   "metadata": {
    "collapsed": false
   },
   "outputs": [
    {
     "name": "stdout",
     "output_type": "stream",
     "text": [
      "('Given a circle with radius = ', 5, ' Area = ', 78.5)\n"
     ]
    }
   ],
   "source": [
    "#######################################################################\n",
    "# A similar function, but this prints the area to screen, rather than \n",
    "# returning it for outside usage\n",
    "#######################################################################\n",
    "# Step 1: Define the function\n",
    "def printAreaOfCircle(radius):\n",
    "    # indentation changes - we are inside the function now\n",
    "    print(\"Given a circle with radius = \", radius,\" Area = \",(3.14*radius*radius))\n",
    "\n",
    "\n",
    "# Indentation has changed - we are back outside the function\n",
    "# the function above does not return anything - it does its thing, and \n",
    "# prints to screen inside the function itself\n",
    "radius2 = 5\n",
    "printAreaOfCircle(radius)\n"
   ]
  },
  {
   "cell_type": "code",
   "execution_count": 5,
   "metadata": {
    "collapsed": false
   },
   "outputs": [
    {
     "name": "stdout",
     "output_type": "stream",
     "text": [
      "('for circles with radii =', [1, 2, 3, 4], ' areas are', [3.14, 12.56, 28.259999999999998, 50.24])\n"
     ]
    }
   ],
   "source": [
    "###########################################################\n",
    "# Ok, now a function that takes in a list of radii and returns\n",
    "# a list of their areas\n",
    "###########################################################\n",
    "\n",
    "# step 1 define the function\n",
    "def calculateAreaOfManyCirclesAllAtOnce(radiusList):\n",
    "    # we are inside the function - indentation has changed\n",
    "    # Define an empty list to hold the areas (we will return this)\n",
    "    resultList = []    \n",
    "    for oneRadius in radiusList:\n",
    "        # indentation changes again - we are inside a for-loop now\n",
    "        # 2 indents, 1 for the the function, 1 for the for-loop\n",
    "        resultList.append(3.14*oneRadius*oneRadius)\n",
    "    return resultList\n",
    "# Indentation changes - we are back out of the function\n",
    "\n",
    "# Step 2: Call the function\n",
    "radiusList = [1,2,3,4]\n",
    "areaList = calculateAreaOfManyCirclesAllAtOnce(radiusList)\n",
    "print(\"for circles with radii =\",radiusList, \" areas are\", areaList)\n"
   ]
  },
  {
   "cell_type": "code",
   "execution_count": 6,
   "metadata": {
    "collapsed": false
   },
   "outputs": [
    {
     "name": "stdout",
     "output_type": "stream",
     "text": [
      "('For circles with radii = ', [1, 2, 3, 4], '\\nAreas = ', [3.14, 12.56, 28.259999999999998, 50.24], '\\n Circumferences = ', [6.28, 12.56, 18.84, 25.12])\n"
     ]
    }
   ],
   "source": [
    "#################################################################\n",
    "# Now a function that takes in a list of circle radii, then returns\n",
    "# 2, not 1, outputs\n",
    "#    output 1: list of areas of those circles\n",
    "#    output 2: list of circumferences of those circles\n",
    "# How do we do this? Via a simple trick - return a diction with 2 keys\n",
    "##################################################################\n",
    "\n",
    "# Step 1: Define the function\n",
    "def calculateAreaAndCircumference(radiusList):\n",
    "    # we are inside the function - indentation changes\n",
    "    areaResultList = []\n",
    "    circumferenceResultList = []\n",
    "    resultHash = {'Areas':areaResultList,'Circumferences': circumferenceResultList}\n",
    "    # now walk through the list of radii and calculate the outputs\n",
    "    for oneRadius in radiusList:\n",
    "        # Indent changes again - we inside a for-loop inside the function\n",
    "        areaResultList.append(3.14*oneRadius*oneRadius)\n",
    "        circumferenceResultList.append(3.14*2*oneRadius)\n",
    "    # done with the for-loop, return the result\n",
    "    return resultHash\n",
    "\n",
    "# step 2: call the function\n",
    "radiusList = [1,2,3,4]\n",
    "resultMap = calculateAreaAndCircumference(radiusList)\n",
    "print(\"For circles with radii = \", radiusList, \"\\nAreas = \",resultMap['Areas'],\"\\n Circumferences = \",resultMap['Circumferences'])\n"
   ]
  },
  {
   "cell_type": "code",
   "execution_count": 15,
   "metadata": {
    "collapsed": true
   },
   "outputs": [],
   "source": [
    "\n",
    "########################################################################\n",
    "# A recursive function to reverse a string\n",
    "#######################################################################\n",
    "\n",
    "# Step 1: Define the function\n",
    "def reverseStringRecursive(someString):\n",
    "    # indentation changes - we are inside the function body\n",
    "    \n",
    "    # first, set up the base case\n",
    "    # Base-case 1: if the string input is None, return as-is\n",
    "    if someString is None:\n",
    "        return someString\n",
    "    # (we will have more to say on None in a bit)\n",
    "    \n",
    "    # Base-case 2: if the string is not None, ie it exists,\n",
    "    # but its length is 0 or 1, then return as-is\n",
    "    if(len(someString)) <= 1:\n",
    "        return someString\n",
    "    \n",
    "    # btw, in case you are wondering why we needed separate\n",
    "    # checks for the None and for the length <= 1, its because\n",
    "    # a None string does not exist, so if we sought to test its\n",
    "    # length using the len() function, an error would have occurred.\n",
    "    # More on this when we get to conditionals in a bit.\n",
    "    \n",
    "    # Ok! Now for the magical recursive call. This line below is a call\n",
    "    # to the function that we are already in (ie a call to itself) but\n",
    "    # with a simpler string passed in.\n",
    "    print someString[1:], \"===> \",someString[0]\n",
    "\n",
    "    return reverseStringRecursive(someString[1:]) + someString[0]\n",
    "# remember a few different things while parsing that last line \n",
    "# 1. a string is just a string of characters\n",
    "# 2. in a list to get a sub-list of all elements starting from index 1,\n",
    "# just use the syntax 'list[1:]'\n",
    "# 3. How can we be sure that the list has an index 1? because we already\n",
    "# handled the case where the list of length 0 or 1 in the base case.\n",
    "# 4. the last bit of the line above, takes the first character and tacks\n",
    "# it onto the end of the reversed substring\n",
    "\n",
    "# That's it, we are ready to actually call the function now\n"
   ]
  },
  {
   "cell_type": "code",
   "execution_count": 16,
   "metadata": {
    "collapsed": false
   },
   "outputs": [
    {
     "name": "stdout",
     "output_type": "stream",
     "text": [
      "ello world ===>  h\n",
      "llo world ===>  e\n",
      "lo world ===>  l\n",
      "o world ===>  l\n",
      " world ===>  o\n",
      "world ===>   \n",
      "orld ===>  w\n",
      "rld ===>  o\n",
      "ld ===>  r\n",
      "d ===>  l\n",
      "('the reverse of ', 'hello world', ' is', 'dlrow olleh')\n"
     ]
    }
   ],
   "source": [
    "# Step 2: Use the function, i.e. call it.\n",
    "\n",
    "someString = \"hello world\"\n",
    "print(\"the reverse of \",someString, \" is\",reverseStringRecursive(someString))\n",
    "\n"
   ]
  },
  {
   "cell_type": "code",
   "execution_count": null,
   "metadata": {
    "collapsed": true
   },
   "outputs": [],
   "source": [
    "\n",
    "someString2 = \"A\"\n",
    "print(\"the reverse of \",someString2, \" is\",reverseStringRecursive(someString2))\n",
    "\n"
   ]
  },
  {
   "cell_type": "code",
   "execution_count": null,
   "metadata": {
    "collapsed": true
   },
   "outputs": [],
   "source": [
    "someString3 = None\n",
    "print(\"the reverse of \",someString3, \" is\",reverseStringRecursive(someString3))"
   ]
  },
  {
   "cell_type": "code",
   "execution_count": 9,
   "metadata": {
    "collapsed": false
   },
   "outputs": [
    {
     "name": "stdout",
     "output_type": "stream",
     "text": [
      "('the reverse of ', 'hello world', ' is ', 'dlrow olleh')\n"
     ]
    }
   ],
   "source": [
    "# Btw, this example above was a good demonstration of basic\n",
    "# recursion, but as a way to reverse a string, this is hopelessly\n",
    "# overcomplicated: Python has amazing built-in features for operations \n",
    "# like this\n",
    "print(\"the reverse of \", someString, \" is \", someString[::-1])\n",
    "\n",
    "\n",
    "\n",
    "# Never mind the magic of the [::-1] in the line above!\n",
    "# For now, just remember that \n",
    "# 1. Recursion is very handy in a bunch of situations\n",
    "# 2. Python has a bunch of magical but rather cryptic ways of getting stuff done\n"
   ]
  },
  {
   "cell_type": "code",
   "execution_count": null,
   "metadata": {
    "collapsed": true
   },
   "outputs": [],
   "source": [
    "\n"
   ]
  }
 ],
 "metadata": {
  "kernelspec": {
   "display_name": "Python 2",
   "language": "python",
   "name": "python2"
  },
  "language_info": {
   "codemirror_mode": {
    "name": "ipython",
    "version": 2
   },
   "file_extension": ".py",
   "mimetype": "text/x-python",
   "name": "python",
   "nbconvert_exporter": "python",
   "pygments_lexer": "ipython2",
   "version": "2.7.13"
  }
 },
 "nbformat": 4,
 "nbformat_minor": 2
}
