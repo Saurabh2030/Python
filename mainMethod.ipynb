{
 "cells": [
  {
   "cell_type": "code",
   "execution_count": 1,
   "metadata": {
    "collapsed": false
   },
   "outputs": [
    {
     "name": "stdout",
     "output_type": "stream",
     "text": [
      "Hi\n"
     ]
    }
   ],
   "source": [
    "#Before we jump more into Python coding, we get familiarize with Python Main function and its importance.\n",
    "#Consider the following code. Make sure that after defining a main function, you leave some indent and\n",
    "#not declare the code right below the def main(): function otherwise it will give indent error.\n",
    "#Here we got two pieces of print one is defined within a main function that is \"Hello World\" and\n",
    "#the other is independent which is \"Hi\". When you run the function def main (): Only \"Hi\" prints out.\n",
    "#It is because we did not declare the call function \"if__name__== \"__main__\"\n",
    "\n",
    "\n",
    "def main():\n",
    "    print \"Hello world!\"     \n",
    "print \"Hi\""
   ]
  },
  {
   "cell_type": "code",
   "execution_count": 2,
   "metadata": {
    "collapsed": false
   },
   "outputs": [
    {
     "name": "stdout",
     "output_type": "stream",
     "text": [
      "Hello World!\n"
     ]
    }
   ],
   "source": [
    "#It is important that after defining the main function, you call the code by if__name__== \"__main__\" and \n",
    "#then run the code, only then you will get the output \"hello world!\" in the programming console as shown below.\n",
    "\n",
    "\n",
    "def main():\n",
    "    print \"Hello World!\"\n",
    "  \n",
    "if __name__== \"__main__\":\n",
    "    main()"
   ]
  },
  {
   "cell_type": "code",
   "execution_count": 13,
   "metadata": {
    "collapsed": false
   },
   "outputs": [
    {
     "name": "stdout",
     "output_type": "stream",
     "text": [
      "abcgfuf\n",
      "xhgfufu\n"
     ]
    }
   ],
   "source": [
    "if __name__== \"__main__\":\n",
    "    print \"abcgfuf\"\n",
    "    print \"xhgfufu\"\n",
    "    "
   ]
  },
  {
   "cell_type": "code",
   "execution_count": 14,
   "metadata": {
    "collapsed": true
   },
   "outputs": [],
   "source": [
    "def main():\n",
    "    print \"Hello World!\""
   ]
  },
  {
   "cell_type": "code",
   "execution_count": null,
   "metadata": {
    "collapsed": true
   },
   "outputs": [],
   "source": []
  }
 ],
 "metadata": {
  "kernelspec": {
   "display_name": "Python 2",
   "language": "python",
   "name": "python2"
  },
  "language_info": {
   "codemirror_mode": {
    "name": "ipython",
    "version": 2
   },
   "file_extension": ".py",
   "mimetype": "text/x-python",
   "name": "python",
   "nbconvert_exporter": "python",
   "pygments_lexer": "ipython2",
   "version": "2.7.13"
  }
 },
 "nbformat": 4,
 "nbformat_minor": 2
}
