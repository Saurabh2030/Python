{
 "cells": [
  {
   "cell_type": "code",
   "execution_count": 2,
   "metadata": {
    "collapsed": false
   },
   "outputs": [
    {
     "name": "stdout",
     "output_type": "stream",
     "text": [
      "I am Maitreyee.\n",
      "I am Maitreyee.\n",
      "I am Maitreyee\n"
     ]
    }
   ],
   "source": [
    "# Strings are amongst the most popular types in Python. In Python everything is object and string are an object too. We can create them simply by enclosing characters in quotes.\n",
    "\n",
    "# All of the following are equivalent.Python treats single quotes the same as double quotes.\n",
    "\n",
    "test_string = 'I am Maitreyee.'\n",
    "print(test_string)\n",
    "test_string = \"I am Maitreyee.\"\n",
    "print(test_string)\n",
    "test_string = '''I am Maitreyee'''\n",
    "print(test_string)\n"
   ]
  },
  {
   "cell_type": "code",
   "execution_count": 3,
   "metadata": {
    "collapsed": false
   },
   "outputs": [
    {
     "name": "stdout",
     "output_type": "stream",
     "text": [
      "I am Maitreyee. I am learning Python. You are welcome to\n",
      "           the world of Python\n"
     ]
    }
   ],
   "source": [
    "# Python's triple quotes comes to the rescue by allowing strings to span multiple lines, including verbatim NEWLINEs, TABs, \n",
    "#and any other special characters.The syntax for triple quotes consists of three consecutive single or double quotes.\n",
    "#triple quotes string can extend multiple lines\n",
    "\n",
    "test_string = \"\"\"I am Maitreyee. I am learning Python. You are welcome to\n",
    "           the world of Python\"\"\"\n",
    "\n",
    "print(test_string)"
   ]
  },
  {
   "cell_type": "code",
   "execution_count": 4,
   "metadata": {
    "collapsed": false
   },
   "outputs": [
    {
     "name": "stdout",
     "output_type": "stream",
     "text": [
      "I am Maitreyee. I am learning Python. You are welcome to\n",
      "           the world of Python\n"
     ]
    }
   ],
   "source": [
    "#Same String with triple single quote\n",
    "test_string = '''I am Maitreyee. I am learning Python. You are welcome to\n",
    "           the world of Python'''\n",
    "\n",
    "print(test_string)"
   ]
  },
  {
   "cell_type": "code",
   "execution_count": 5,
   "metadata": {
    "collapsed": false
   },
   "outputs": [
    {
     "data": {
      "text/plain": [
       "True"
      ]
     },
     "execution_count": 5,
     "metadata": {},
     "output_type": "execute_result"
    }
   ],
   "source": [
    "#String Membership Test. We can test if a sub string exists within a string or not, using the keyword in.\n",
    "\n",
    "'Maitreyee' in test_string\n",
    "\n"
   ]
  },
  {
   "cell_type": "code",
   "execution_count": 6,
   "metadata": {
    "collapsed": false
   },
   "outputs": [
    {
     "data": {
      "text/plain": [
       "False"
      ]
     },
     "execution_count": 6,
     "metadata": {},
     "output_type": "execute_result"
    }
   ],
   "source": [
    "'welcome' not in test_string"
   ]
  },
  {
   "cell_type": "code",
   "execution_count": 6,
   "metadata": {
    "collapsed": false
   },
   "outputs": [
    {
     "name": "stdout",
     "output_type": "stream",
     "text": [
      "('list(enumerate(str) = ', [(0, 'H'), (1, 'e'), (2, 'l'), (3, 'l'), (4, 'o')])\n",
      "('len(str) = ', 5)\n"
     ]
    }
   ],
   "source": [
    "#Built-in functions to Work with Python\n",
    "#Various built-in functions that work with sequence, works with string as well.\n",
    "#Some of the commonly used ones are enumerate() and len(). The enumerate() function returns an enumerate object.\n",
    "#It contains the index and value of all the items in the string as pairs. This can be useful for iteration.\n",
    "#Similarly, len() returns the length (number of characters) of the string.\n",
    "\n",
    "str = 'Hello'\n",
    "# enumerate()\n",
    "\n",
    "list_enumerate = list(enumerate(str))\n",
    "print('list(enumerate(str) = ', list_enumerate)\n",
    "#character count\n",
    "print('len(str) = ', len(str))"
   ]
  },
  {
   "cell_type": "code",
   "execution_count": 7,
   "metadata": {
    "collapsed": false
   },
   "outputs": [
    {
     "data": {
      "text/plain": [
       "7"
      ]
     },
     "execution_count": 7,
     "metadata": {},
     "output_type": "execute_result"
    }
   ],
   "source": [
    "string1=\"Saurabh\"\n",
    "len(string1)"
   ]
  },
  {
   "cell_type": "code",
   "execution_count": 8,
   "metadata": {
    "collapsed": true
   },
   "outputs": [],
   "source": [
    "list_enumerate = list(enumerate(string1))"
   ]
  },
  {
   "cell_type": "code",
   "execution_count": 22,
   "metadata": {
    "collapsed": false
   },
   "outputs": [
    {
     "name": "stdout",
     "output_type": "stream",
     "text": [
      "[(0, 'S'), (1, 'a'), (2, 'u'), (3, 'r'), (4, 'a'), (5, 'b'), (6, 'h')]\n",
      "(0, 'S')\n",
      "(1, 'a')\n",
      "(2, 'u')\n",
      "(3, 'r')\n",
      "(4, 'a')\n",
      "(5, 'b')\n",
      "(6, 'h')\n"
     ]
    }
   ],
   "source": [
    "print list_enumerate\n",
    "\n",
    "for a in list_enumerate:\n",
    "    print a    \n",
    "    "
   ]
  },
  {
   "cell_type": "code",
   "execution_count": 25,
   "metadata": {
    "collapsed": false
   },
   "outputs": [
    {
     "name": "stdout",
     "output_type": "stream",
     "text": [
      "u\n"
     ]
    }
   ],
   "source": [
    "for abc,k in list_enumerate:\n",
    "    \n",
    "    if(abc==2):\n",
    "        print k\n",
    " \n",
    "    "
   ]
  },
  {
   "cell_type": "code",
   "execution_count": null,
   "metadata": {
    "collapsed": true
   },
   "outputs": [],
   "source": []
  }
 ],
 "metadata": {
  "kernelspec": {
   "display_name": "Python 2",
   "language": "python",
   "name": "python2"
  },
  "language_info": {
   "codemirror_mode": {
    "name": "ipython",
    "version": 2
   },
   "file_extension": ".py",
   "mimetype": "text/x-python",
   "name": "python",
   "nbconvert_exporter": "python",
   "pygments_lexer": "ipython2",
   "version": "2.7.13"
  }
 },
 "nbformat": 4,
 "nbformat_minor": 2
}
