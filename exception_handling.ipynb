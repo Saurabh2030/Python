{
 "cells": [
  {
   "cell_type": "code",
   "execution_count": 1,
   "metadata": {
    "collapsed": false
   },
   "outputs": [
    {
     "name": "stdout",
     "output_type": "stream",
     "text": [
      "Please enter a number: 23\n"
     ]
    }
   ],
   "source": [
    "#An exception is an event, which occurs during the execution of a program that disrupts the normal flow of the program's instructions. \n",
    "#In general, when a Python script encounters a situation that it cannot cope with, it raises an exception. \n",
    "#An exception is a Python object that represents an error.\n",
    "\n",
    "#When a Python script raises an exception, it must either handle the exception immediately otherwise it terminates and quits.\n",
    "\n",
    "#Handling an exception\n",
    "#If you have some suspicious code that may raise an exception, you can defend your program by placing the suspicious code in a try: block. \n",
    "#After the try: block, include an except: statement, \n",
    "#followed by a block of code which handles the problem as elegantly as possible.\n",
    "\n",
    "n = int(raw_input(\"Please enter a number: \"))\n"
   ]
  },
  {
   "cell_type": "code",
   "execution_count": 2,
   "metadata": {
    "collapsed": false
   },
   "outputs": [
    {
     "name": "stdout",
     "output_type": "stream",
     "text": [
      "Please enter a number: 23.5\n"
     ]
    },
    {
     "ename": "ValueError",
     "evalue": "invalid literal for int() with base 10: '23.5'",
     "output_type": "error",
     "traceback": [
      "\u001b[0;31m---------------------------------------------------------------------------\u001b[0m",
      "\u001b[0;31mValueError\u001b[0m                                Traceback (most recent call last)",
      "\u001b[0;32m<ipython-input-2-90b40644398b>\u001b[0m in \u001b[0;36m<module>\u001b[0;34m()\u001b[0m\n\u001b[0;32m----> 1\u001b[0;31m \u001b[0mn\u001b[0m \u001b[1;33m=\u001b[0m \u001b[0mint\u001b[0m\u001b[1;33m(\u001b[0m\u001b[0mraw_input\u001b[0m\u001b[1;33m(\u001b[0m\u001b[1;34m\"Please enter a number: \"\u001b[0m\u001b[1;33m)\u001b[0m\u001b[1;33m)\u001b[0m\u001b[1;33m\u001b[0m\u001b[0m\n\u001b[0m",
      "\u001b[0;31mValueError\u001b[0m: invalid literal for int() with base 10: '23.5'"
     ]
    }
   ],
   "source": [
    "n = int(raw_input(\"Please enter a number: \"))\n"
   ]
  },
  {
   "cell_type": "code",
   "execution_count": 3,
   "metadata": {
    "collapsed": false
   },
   "outputs": [
    {
     "name": "stdout",
     "output_type": "stream",
     "text": [
      "Please enter an integer: 23.5\n",
      "No valid integer! Please try again ...\n",
      "Please enter an integer: 67.0\n",
      "No valid integer! Please try again ...\n",
      "Please enter an integer: 87\n",
      "Great, you successfully entered an integer!\n"
     ]
    }
   ],
   "source": [
    "#With the aid of exception handling, we can write robust code for reading an integer from input:\n",
    "while True:\n",
    "    try:\n",
    "        n = raw_input(\"Please enter an integer: \")\n",
    "        n = int(n)\n",
    "        break\n",
    "    except ValueError:\n",
    "        print(\"No valid integer! Please try again ...\")\n",
    "print \"Great, you successfully entered an integer!\"\n"
   ]
  },
  {
   "cell_type": "code",
   "execution_count": null,
   "metadata": {
    "collapsed": true
   },
   "outputs": [],
   "source": [
    "#Syntax: Here is simple syntax of try....except...else blocks −\n",
    "\n",
    "#try:\n",
    "#   You do your operations here;\n",
    "#   ......................\n",
    "#except ExceptionI:\n",
    "#   If there is ExceptionI, then execute this block.\n",
    "#except ExceptionII:\n",
    "#   If there is ExceptionII, then execute this block.\n",
    "#   ......................\n",
    "#else:\n",
    "#   If there is no exception then execute this block. \n"
   ]
  }
 ],
 "metadata": {
  "kernelspec": {
   "display_name": "Python 2",
   "language": "python",
   "name": "python2"
  },
  "language_info": {
   "codemirror_mode": {
    "name": "ipython",
    "version": 2
   },
   "file_extension": ".py",
   "mimetype": "text/x-python",
   "name": "python",
   "nbconvert_exporter": "python",
   "pygments_lexer": "ipython2",
   "version": "2.7.13"
  }
 },
 "nbformat": 4,
 "nbformat_minor": 2
}
