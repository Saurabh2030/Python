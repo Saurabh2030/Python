{
 "cells": [
  {
   "cell_type": "code",
   "execution_count": 1,
   "metadata": {
    "collapsed": false
   },
   "outputs": [
    {
     "name": "stdout",
     "output_type": "stream",
     "text": [
      "<type 'file'>\n",
      "khfyjduldli\n",
      "chxykucikgukh\n",
      "kjvjc lhlhp]\n",
      "ljph ;k[pik [i[p ljpohjo lhihp ,nip lhpp lhp hpoh\n",
      "jblbob kjjhkh jkbkjb jkjb kbkbk kjbkjb kjbkb kjbkbk kbkbk kbkjkk'\n",
      "bkkjbkjb bkbkb kjkbkb  kjkbkk kjbkbkb ;j;jo buku kbkubu kbkubu bkub bkuu jvv\n",
      "buoiohih kni jbu jnh jbug jkbk jjviyv xfzra uyff yufuf yyfuu fuyfu fyufyu uyffu fuy[yfyufvufuy]ygifi fyuf\n",
      "vuyfu hch vuyvtugiu jvuyfu jvuy vyv\n"
     ]
    }
   ],
   "source": [
    "path='C:\\\\Users\\\\Saurabh\\\\Desktop\\\\title.txt'\n",
    "\n",
    "# Echo the contents of a file\n",
    "f = open(path, 'rU')\n",
    "print type(f)\n",
    "for line in f:   ## iterates over the lines of the file\n",
    "    print line,    ## trailing , so print does not add an end-of-line char\n",
    "                   ## since 'line' already includes the end-of line.\n",
    "f.close()\n",
    "\n",
    "\n"
   ]
  },
  {
   "cell_type": "code",
   "execution_count": 2,
   "metadata": {
    "collapsed": false
   },
   "outputs": [
    {
     "name": "stdout",
     "output_type": "stream",
     "text": [
      "<type 'list'>\n",
      "['khfyjduldli', 'chxykucikgukh', 'kjvjc lhlhp]', 'ljph ;k[pik [i[p ljpohjo lhihp ,nip lhpp lhp hpoh', \"jblbob kjjhkh jkbkjb jkjb kbkbk kjbkjb kjbkb kjbkbk kbkbk kbkjkk'\", 'bkkjbkjb bkbkb kjkbkb  kjkbkk kjbkbkb ;j;jo buku kbkubu kbkubu bkub bkuu jvv', 'buoiohih kni jbu jnh jbug jkbk jjviyv xfzra uyff yufuf yyfuu fuyfu fyufyu uyffu fuy[yfyufvufuy]ygifi fyuf', 'vuyfu hch vuyvtugiu jvuyfu jvuy vyv']\n"
     ]
    }
   ],
   "source": [
    "# Echo the contents of a file\n",
    "with open(path) as f:\n",
    "    content = f.readlines()\n",
    "    print type(content)\n",
    "\n",
    "# you may also want to remove whitespace characters like `\\n` at the end of each line\n",
    "content = [x.strip() for x in content]\n",
    "print content"
   ]
  },
  {
   "cell_type": "code",
   "execution_count": 3,
   "metadata": {
    "collapsed": false
   },
   "outputs": [
    {
     "data": {
      "text/plain": [
       "[0, 1, 2, 3, 4, 5, 6, 7, 8, 9]"
      ]
     },
     "execution_count": 3,
     "metadata": {},
     "output_type": "execute_result"
    }
   ],
   "source": [
    "range(10)"
   ]
  },
  {
   "cell_type": "code",
   "execution_count": 3,
   "metadata": {
    "collapsed": false
   },
   "outputs": [
    {
     "name": "stdout",
     "output_type": "stream",
     "text": [
      "<type 'int'>\n",
      "<type 'int'>\n",
      "<type 'int'>\n",
      "<type 'int'>\n",
      "<type 'int'>\n",
      "<type 'int'>\n",
      "<type 'int'>\n",
      "<type 'int'>\n",
      "<type 'int'>\n",
      "<type 'int'>\n"
     ]
    }
   ],
   "source": [
    "f= open(\"guru99.txt\",\"w+\")\n",
    "for i in range(10):\n",
    "     f.write(\"This is line %d\\n\\n\" % (i+1))\n",
    "f.close()\n",
    "        "
   ]
  },
  {
   "cell_type": "code",
   "execution_count": 17,
   "metadata": {
    "collapsed": false
   },
   "outputs": [
    {
     "name": "stdout",
     "output_type": "stream",
     "text": [
      "khfyjduldli\r\n",
      "\n",
      "chxykucikgukh\r\n",
      "\n",
      "kjvjc lhlhp]\r\n",
      "\n",
      " ljph ;k[pik [i[p ljpohjo lhihp ,nip lhpp lhp hpoh\r\n",
      "\n",
      "jblbob kjjhkh jkbkjb jkjb kbkbk kjbkjb kjbkb kjbkbk kbkbk kbkjkk'\r\n",
      "\n",
      "bkkjbkjb bkbkb kjkbkb  kjkbkk kjbkbkb ;j;jo buku kbkubu kbkubu bkub bkuu jvv\r\n",
      "\n",
      "buoiohih kni jbu jnh jbug jkbk jjviyv xfzra uyff yufuf yyfuu fuyfu fyufyu uyffu fuy[yfyufvufuy]ygifi fyuf\r\n",
      "\n",
      "vuyfu hch vuyvtugiu jvuyfu jvuy vyv\n"
     ]
    }
   ],
   "source": [
    "import codecs\n",
    "\n",
    "f = codecs.open(path, 'rU', 'utf-8')\n",
    "for line in f:\n",
    "    print line\n",
    "  # here line is a *unicode* string"
   ]
  },
  {
   "cell_type": "code",
   "execution_count": null,
   "metadata": {
    "collapsed": true
   },
   "outputs": [],
   "source": [
    "  "
   ]
  }
 ],
 "metadata": {
  "kernelspec": {
   "display_name": "Python 2",
   "language": "python",
   "name": "python2"
  },
  "language_info": {
   "codemirror_mode": {
    "name": "ipython",
    "version": 2
   },
   "file_extension": ".py",
   "mimetype": "text/x-python",
   "name": "python",
   "nbconvert_exporter": "python",
   "pygments_lexer": "ipython2",
   "version": "2.7.13"
  }
 },
 "nbformat": 4,
 "nbformat_minor": 2
}
