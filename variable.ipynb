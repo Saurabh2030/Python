{
 "cells": [
  {
   "cell_type": "code",
   "execution_count": 15,
   "metadata": {
    "collapsed": false
   },
   "outputs": [
    {
     "name": "stdout",
     "output_type": "stream",
     "text": [
      " Saurabh\n",
      "Ghosh\n"
     ]
    }
   ],
   "source": [
    "#http://www.guru99.com/variables-in-python.html\n",
    "# What is variable?\n",
    "#Variables are used to store information to be referenced and manipulated in a computer program.\n",
    "#It is helpful to think of variables as containers that hold information. Their sole purpose is to label and store data in memory. This data can then be used throughout your program.\n",
    "#Assigning value to a varibale\n",
    "\n",
    "#Variables are referred to \"envelop\" or \"buckets\" where information can be maintained and referenced. \n",
    "#Like any other programming language Python also uses a variable to store the information.\n",
    "\n",
    "\n",
    "\n",
    "#How to declare and use a variable\n",
    "#Variables can be declared by any name or even alphabets\n",
    "#Let see an example. We will declare variable and print it.\n",
    "\n",
    "firstName=\"Saurabh\"\n",
    "lastName=\"Ghosh\"\n",
    "print firstName\n",
    "print lastName\n",
    "\n"
   ]
  },
  {
   "cell_type": "code",
   "execution_count": 16,
   "metadata": {
    "collapsed": false
   },
   "outputs": [
    {
     "name": "stdout",
     "output_type": "stream",
     "text": [
      "0\n",
      "43\n"
     ]
    }
   ],
   "source": [
    "#Redeclare a variable\n",
    "#Variables can be re-declared even after you have declared it once\n",
    "f=0\n",
    "print f\n",
    "f=43\n",
    "print f"
   ]
  },
  {
   "cell_type": "code",
   "execution_count": 17,
   "metadata": {
    "collapsed": false
   },
   "outputs": [
    {
     "name": "stdout",
     "output_type": "stream",
     "text": [
      "Guru99\n"
     ]
    }
   ],
   "source": [
    "#Concatenate Variables\n",
    "#In Python you cannot concatenate string with number directly, you need to declare them as a separate string variable\n",
    "#and thereafter you can concatenate number with string\n",
    "\n",
    "a=\"Guru\"\n",
    "b = 99\n",
    "print a+str(b)"
   ]
  },
  {
   "cell_type": "code",
   "execution_count": 18,
   "metadata": {
    "collapsed": false
   },
   "outputs": [
    {
     "name": "stdout",
     "output_type": "stream",
     "text": [
      "101\n",
      "200\n",
      "101\n"
     ]
    }
   ],
   "source": [
    "#Local & Global Variables:\n",
    "\n",
    "#Declare local variable when you want to use it for current function. \n",
    "#Declare Global variable when you want to use the same variable for rest of the program.\n",
    "\n",
    "f=101\n",
    "print f\n",
    "\n",
    "def func():\n",
    "    f=200\n",
    "    print f\n",
    "\n",
    "func()\n",
    "print f"
   ]
  },
  {
   "cell_type": "code",
   "execution_count": 19,
   "metadata": {
    "collapsed": false
   },
   "outputs": [
    {
     "name": "stdout",
     "output_type": "stream",
     "text": [
      "101\n",
      "====>"
     ]
    },
    {
     "ename": "NameError",
     "evalue": "name 'f' is not defined",
     "output_type": "error",
     "traceback": [
      "\u001b[0;31m---------------------------------------------------------------------------\u001b[0m",
      "\u001b[0;31mNameError\u001b[0m                                 Traceback (most recent call last)",
      "\u001b[0;32m<ipython-input-19-13692d11b6d2>\u001b[0m in \u001b[0;36m<module>\u001b[0;34m()\u001b[0m\n\u001b[1;32m      7\u001b[0m \u001b[1;32mdel\u001b[0m \u001b[0mf\u001b[0m\u001b[1;33m\u001b[0m\u001b[0m\n\u001b[1;32m      8\u001b[0m \u001b[1;33m\u001b[0m\u001b[0m\n\u001b[0;32m----> 9\u001b[0;31m \u001b[1;32mprint\u001b[0m \u001b[1;34m\"====>\"\u001b[0m\u001b[1;33m,\u001b[0m\u001b[0mf\u001b[0m\u001b[1;33m\u001b[0m\u001b[0m\n\u001b[0m",
      "\u001b[0;31mNameError\u001b[0m: name 'f' is not defined"
     ]
    }
   ],
   "source": [
    "#delete a variable:\n",
    "#To delete variable it uses keyword \"del\".In the example below, we deleted variable f and when we proceed to print it,\n",
    "#we get error \"variable name is not defined\" which means you have deleted the variable.\n",
    "\n",
    "\n",
    "print f\n",
    "del f\n",
    "\n",
    "print \"====>\",f\n"
   ]
  },
  {
   "cell_type": "code",
   "execution_count": 20,
   "metadata": {
    "collapsed": false
   },
   "outputs": [
    {
     "name": "stdout",
     "output_type": "stream",
     "text": [
      " 3\n"
     ]
    }
   ],
   "source": [
    "#Addition of two numbers using variables\n",
    "\n",
    "number1=1\n",
    "number2=2\n",
    "sum=number1+number2\n",
    "print sum\n"
   ]
  },
  {
   "cell_type": "code",
   "execution_count": 2,
   "metadata": {
    "collapsed": false
   },
   "outputs": [
    {
     "name": "stdout",
     "output_type": "stream",
     "text": [
      "Enter the number12\n",
      "12\n"
     ]
    }
   ],
   "source": [
    "#Take input of two numbers from user\n",
    "\n",
    "num1=input(\"Enter the number\")\n",
    "\n",
    "\n",
    "print num1"
   ]
  },
  {
   "cell_type": "code",
   "execution_count": 3,
   "metadata": {
    "collapsed": false
   },
   "outputs": [
    {
     "name": "stdout",
     "output_type": "stream",
     "text": [
      "Enter the number7\n",
      "7\n"
     ]
    }
   ],
   "source": [
    "\n",
    "num2=input(\"Enter the number\")\n",
    "print num2"
   ]
  },
  {
   "cell_type": "code",
   "execution_count": 4,
   "metadata": {
    "collapsed": false
   },
   "outputs": [
    {
     "name": "stdout",
     "output_type": "stream",
     "text": [
      "-5\n"
     ]
    }
   ],
   "source": [
    "#Subtraction:\n",
    "sub = num2 -num1\n",
    "print sub"
   ]
  },
  {
   "cell_type": "code",
   "execution_count": 5,
   "metadata": {
    "collapsed": false
   },
   "outputs": [
    {
     "name": "stdout",
     "output_type": "stream",
     "text": [
      "84\n"
     ]
    }
   ],
   "source": [
    "mul=num1 * num2\n",
    "print mul"
   ]
  },
  {
   "cell_type": "code",
   "execution_count": 6,
   "metadata": {
    "collapsed": false
   },
   "outputs": [
    {
     "name": "stdout",
     "output_type": "stream",
     "text": [
      "0\n"
     ]
    }
   ],
   "source": [
    "div=num2/num1\n",
    "print div"
   ]
  }
 ],
 "metadata": {
  "kernelspec": {
   "display_name": "Python 2",
   "language": "python",
   "name": "python2"
  },
  "language_info": {
   "codemirror_mode": {
    "name": "ipython",
    "version": 2
   },
   "file_extension": ".py",
   "mimetype": "text/x-python",
   "name": "python",
   "nbconvert_exporter": "python",
   "pygments_lexer": "ipython2",
   "version": "2.7.13"
  }
 },
 "nbformat": 4,
 "nbformat_minor": 2
}
