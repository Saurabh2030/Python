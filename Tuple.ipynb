{
 "cells": [
  {
   "cell_type": "code",
   "execution_count": 2,
   "metadata": {
    "collapsed": true
   },
   "outputs": [],
   "source": [
    "#A tuple is just like a list of a sequence of immutable python objects. The difference between list and tuple is that\n",
    "#list are declared in square brackets and can be changed while tuple is declared in parentheses and cannot be changed.\n",
    "#However, you can take portions of existing tuples to make new tuples.\n",
    "\n",
    "#Tuple Syntax:\n",
    "Tup = ('Saurabh','Maitreyee','Riya')"
   ]
  },
  {
   "cell_type": "code",
   "execution_count": 6,
   "metadata": {
    "collapsed": true
   },
   "outputs": [],
   "source": [
    "#To write an empty tuple, you need to write as two parentheses containing nothing\n",
    "tup1 = ()"
   ]
  },
  {
   "cell_type": "code",
   "execution_count": 7,
   "metadata": {
    "collapsed": false
   },
   "outputs": [
    {
     "data": {
      "text/plain": [
       "(50,)"
      ]
     },
     "execution_count": 7,
     "metadata": {},
     "output_type": "execute_result"
    }
   ],
   "source": [
    "#For writing tuple for a single value, you need to include a comma, even though there is a single value.\n",
    "\n",
    "tup1 = (50,)\n",
    "tup1"
   ]
  },
  {
   "cell_type": "code",
   "execution_count": 9,
   "metadata": {
    "collapsed": false
   },
   "outputs": [
    {
     "name": "stdout",
     "output_type": "stream",
     "text": [
      "Robert\n",
      "(2, 3, 4)\n"
     ]
    }
   ],
   "source": [
    "#Tuple indices begin at 0, and they can be concatenated, sliced and so on.\n",
    "tup1 = ('Robert', 'Carlos','1965','Terminator 1995', 'Actor','Florida');\n",
    "tup2 = (1,2,3,4,5,6,7);\n",
    "print  tup1[0]\n",
    "print  tup2[1:4]\n"
   ]
  },
  {
   "cell_type": "code",
   "execution_count": 13,
   "metadata": {
    "collapsed": false
   },
   "outputs": [
    {
     "name": "stdout",
     "output_type": "stream",
     "text": [
      "Maitreyee\n",
      "20\n",
      "Education\n"
     ]
    }
   ],
   "source": [
    "#Packing and Unpacking\n",
    "#In packing, we place value into a new tuple while in unpacking we extract those values back into variables.\n",
    "\n",
    "\n",
    "x = (\"Maitreyee\", 20, \"Education\")    # tuple packing\n",
    "\n",
    "(name, age, profile) = x    # tuple unpacking\n",
    "print name\n",
    "print age\n",
    "print profile"
   ]
  },
  {
   "cell_type": "code",
   "execution_count": 8,
   "metadata": {
    "collapsed": true
   },
   "outputs": [],
   "source": [
    "#Comparing tuples\n",
    "#A comparison operator in Python can work with tuples.The comparison starts with a first element of each tuple. \n",
    "#If they do not compare to =,< or > then it proceed to the second element and so on. It starts with comparing the first element from each of the tuples\n",
    "\n"
   ]
  },
  {
   "cell_type": "code",
   "execution_count": 9,
   "metadata": {
    "collapsed": false
   },
   "outputs": [
    {
     "name": "stdout",
     "output_type": "stream",
     "text": [
      "a is bigger\n"
     ]
    }
   ],
   "source": [
    "#case 1 :Comparison starts with a first element of each tuple. In this case 5>1, so the output a is bigger\n",
    "a=(5,6)\n",
    "b=(1,4)\n",
    "if (a>b):print \"a is bigger\"\n",
    "else: print \"b is bigger\""
   ]
  },
  {
   "cell_type": "code",
   "execution_count": 10,
   "metadata": {
    "collapsed": false
   },
   "outputs": [
    {
     "name": "stdout",
     "output_type": "stream",
     "text": [
      "a is bigger\n"
     ]
    }
   ],
   "source": [
    "#Case 2: Comparison starts with a first element of each tuple.\n",
    "#In this case 5>5 which is inconclusive. So it proceeds to the next element. 6>4, so the output a is bigger.\n",
    "a=(5,6)\n",
    "b=(5,4)\n",
    "if (a>b):print \"a is bigger\"\n",
    "else: print \"b is bigger\""
   ]
  },
  {
   "cell_type": "code",
   "execution_count": 11,
   "metadata": {
    "collapsed": false
   },
   "outputs": [
    {
     "name": "stdout",
     "output_type": "stream",
     "text": [
      "b is bigger\n"
     ]
    }
   ],
   "source": [
    "#Case 3: Comparison starts with a first element of each tuple.\n",
    "#In this case 5>6 which is false. So it goes into the else loop prints \"b is bigger.\"\n",
    "a=(5,6)\n",
    "b=(6,4)\n",
    "if (a>b):print \"a is bigger\"\n",
    "else: print \"b is bigger\""
   ]
  },
  {
   "cell_type": "code",
   "execution_count": 16,
   "metadata": {
    "collapsed": false
   },
   "outputs": [
    {
     "name": "stdout",
     "output_type": "stream",
     "text": [
      "{('Ghosh', 'Maitreyee'): 9023}\n"
     ]
    }
   ],
   "source": [
    "#Using tuples as keys in dictionaries\n",
    "#Since tuples are hashable, and list is not, we must use tuple as the key if we need to create a composite key to use in\n",
    "#a dictionary.Dictionary can return the list of tuples by calling items, where each tuple is a key value pair\n",
    "#\n",
    "#Example: We would come across a composite key if we need to create a telephone directory that maps, first-name, last-name,\n",
    "#pairs of telephone numbers, etc. Assuming that we have declared the variables as last and first number, \n",
    "#we could write a dictionary assignment statement as shown below:\n",
    "\n",
    "directory={}\n",
    "number=9023\n",
    "last=\"Ghosh\"\n",
    "first=\"Maitreyee\"\n",
    "directory[last,first] = number\n",
    "\n",
    "print directory"
   ]
  },
  {
   "cell_type": "code",
   "execution_count": 15,
   "metadata": {
    "collapsed": false
   },
   "outputs": [
    {
     "name": "stdout",
     "output_type": "stream",
     "text": [
      "[('y', 200), ('x', 100)]\n"
     ]
    }
   ],
   "source": [
    "#Tuples and dictionary\n",
    "\n",
    "#Dictionary can return the list of tuples by calling items, where each tuple is a key value pair.\n",
    "\n",
    "a = {'x':100, 'y':200}\n",
    "b = a.items()\n",
    "print b\n",
    "\n"
   ]
  },
  {
   "cell_type": "code",
   "execution_count": 18,
   "metadata": {
    "collapsed": false
   },
   "outputs": [
    {
     "name": "stdout",
     "output_type": "stream",
     "text": [
      "('c', 'd')\n"
     ]
    }
   ],
   "source": [
    "#Slicing of Tuple:\n",
    "#To fetch specific sets of sub-elements from tuple or list, we use this unique function called slicing. Slicing is not only applicable to tuple but also \n",
    "#for array and list.\n",
    "\n",
    "x = (\"a\", \"b\",\"c\", \"d\", \"e\")\n",
    "print x[2:4]"
   ]
  },
  {
   "cell_type": "code",
   "execution_count": 16,
   "metadata": {
    "collapsed": false
   },
   "outputs": [
    {
     "data": {
      "text/plain": [
       "4"
      ]
     },
     "execution_count": 16,
     "metadata": {},
     "output_type": "execute_result"
    }
   ],
   "source": [
    "#Built-in functions with Tuple\n",
    "#To perform different task, tuple allows you to use many built-in functions \n",
    "#like all(), any(), enumerate(), max(), min(), sorted(), len(), tuple(), etc.\n",
    "\n",
    "tup=(23,12,34,55)\n",
    "min(tup)\n",
    "max(tup)\n",
    "any(tup)\n",
    "list(enumerate(tup))\n",
    "sorted(tup)\n",
    "len(tup)\n"
   ]
  },
  {
   "cell_type": "code",
   "execution_count": null,
   "metadata": {
    "collapsed": true
   },
   "outputs": [],
   "source": [
    "#Advantages of tuple over list:\n",
    "#Iterating through tuple is faster than list, since tuples are immutable.\n",
    "#Tuples that consist of immutable elements can be used as key for dictionary, which is not possible with list\n",
    "#If you have data that is immutable, implementing it as tuple will guarantee that it remains write-protected\n"
   ]
  },
  {
   "cell_type": "code",
   "execution_count": null,
   "metadata": {
    "collapsed": true
   },
   "outputs": [],
   "source": [
    "#Reference: http://www.guru99.com/python-tuples-tutorial-comparing-deleting-slicing-keys-unpacking.html"
   ]
  }
 ],
 "metadata": {
  "kernelspec": {
   "display_name": "Python 2",
   "language": "python",
   "name": "python2"
  },
  "language_info": {
   "codemirror_mode": {
    "name": "ipython",
    "version": 2
   },
   "file_extension": ".py",
   "mimetype": "text/x-python",
   "name": "python",
   "nbconvert_exporter": "python",
   "pygments_lexer": "ipython2",
   "version": "2.7.13"
  }
 },
 "nbformat": 4,
 "nbformat_minor": 2
}
