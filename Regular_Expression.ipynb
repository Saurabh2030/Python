{
 "cells": [
  {
   "cell_type": "code",
   "execution_count": 1,
   "metadata": {
    "collapsed": true
   },
   "outputs": [],
   "source": [
    "#   Regular expressions are a powerful language for matching text patterns. This page gives a\n",
    "#   basic introduction to regular expressions themselves sufficient for our Python exercises and \n",
    "#   shows how regular expressions work in Python. The Python \"re\" module provides regular expression support.\n",
    "#   \n",
    "#   In Python a regular expression search is typically written as:\n",
    "#   \n",
    "#     match = re.search(pat, str)\n",
    "#   \n",
    "#   The re.search() method takes a regular expression pattern and a string and searches for that pattern\n",
    "#   within the string. If the search is successful, search() returns a match object or None otherwise. \n",
    "#   Therefore, the search is usually immediately followed by an if-statement to test if the search\n",
    "#   succeeded, as shown in the following example which searches for the pattern 'word:' followed by \n",
    "#   a 3 letter word (details below):"
   ]
  },
  {
   "cell_type": "code",
   "execution_count": 3,
   "metadata": {
    "collapsed": false
   },
   "outputs": [
    {
     "name": "stdout",
     "output_type": "stream",
     "text": [
      "found result==> word:cat\n"
     ]
    }
   ],
   "source": [
    "import re\n",
    "str = 'an example word:cat!!'\n",
    "match = re.search(r'word:\\w{3}', str)\n",
    "\n",
    "# If-statement after search() tests if it succeeded\n",
    "if match:                      \n",
    "    print 'found result==>', match.group() ## 'found word:cat'\n",
    "else:\n",
    "    print 'did not find'"
   ]
  },
  {
   "cell_type": "code",
   "execution_count": 5,
   "metadata": {
    "collapsed": true
   },
   "outputs": [],
   "source": [
    "#The code match = re.search(pat, str) stores the search result in a variable named \"match\".\n",
    "#Then the if-statement tests the match -- if true the search succeeded and match.group() is the \n",
    "#matching text (e.g. 'word:cat'). Otherwise if the match is false (None to be more specific),\n",
    "#then the search did not succeed, and there is no matching text.\n",
    "#\n",
    "#The 'r' at the start of the pattern string designates a python \"raw\" string which passes through\n",
    "#backslashes without change which is very handy for regular expressions (Java needs this feature badly!).\n",
    "#I recommend that you always write pattern strings with the 'r' just as a habit."
   ]
  },
  {
   "cell_type": "code",
   "execution_count": 8,
   "metadata": {
    "collapsed": false
   },
   "outputs": [
    {
     "name": "stdout",
     "output_type": "stream",
     "text": [
      "b@google\n"
     ]
    }
   ],
   "source": [
    "#  Emails example::\n",
    "#Suppose you want to find the email address inside the string 'xyz alice-b@google.com purple monkey'. We'll use this as a running example to demonstrate more regular expression features. Here's an attempt using the pattern r'\\w+@\\w+':\n",
    "#Suppose you want to find the email address inside the string 'xyz alice-b@google.com purple monkey'. \n",
    "#We'll use this as a running example to demonstrate more regular expression features. \n",
    "#Here's an attempt using the pattern r'\\w+@\\w+':\n",
    "\n",
    "str = 'purple alice-b@google.com monkey dishwasher'\n",
    "match = re.search(r'\\w+@\\w+', str)\n",
    "if match:\n",
    "    print match.group()  ## 'b@google'\n",
    "\n",
    "#The search does not get the whole email address in this case because the \\w does not match\n",
    "#the '-' or '.' in the address. We'll fix this using the regular expression features below.\n"
   ]
  },
  {
   "cell_type": "code",
   "execution_count": 10,
   "metadata": {
    "collapsed": false
   },
   "outputs": [
    {
     "name": "stdout",
     "output_type": "stream",
     "text": [
      "alice-b@google.com\n"
     ]
    }
   ],
   "source": [
    "#Square Brackets\n",
    "\n",
    "#Square brackets can be used to indicate a set of chars, so [abc] matches 'a' or 'b' or 'c'. \n",
    "#The codes \\w, \\s etc. work inside square brackets too with the one exception that\n",
    "#dot (.) just means a literal dot. For the emails problem, the square brackets are an easy way to \n",
    "#add '.' and '-' to the set of chars which can appear around the @ with the pattern r'[\\w.-]+@[\\w.-]+' \n",
    "#to get the whole email address:\n",
    "\n",
    "match = re.search(r'[\\w.-]+@[\\w.-]+', str)\n",
    "if match:\n",
    "    print match.group()  ## 'alice-b@google.com'\n",
    "\n",
    "\n",
    "#You can also use a dash to indicate a range, so [a-z] matches all lowercase letters.\n",
    "#To use a dash without indicating a range, put the dash last, e.g. [abc-]"
   ]
  },
  {
   "cell_type": "code",
   "execution_count": 11,
   "metadata": {
    "collapsed": false
   },
   "outputs": [
    {
     "name": "stdout",
     "output_type": "stream",
     "text": [
      "alice-b@google.com\n",
      "alice-b\n",
      "google.com\n"
     ]
    }
   ],
   "source": [
    "#Group Extraction\n",
    "\n",
    "#  The \"group\" feature of a regular expression allows you to pick out parts of the matching text.\n",
    "#  Suppose for the emails problem that we want to extract the username and host separately. \n",
    "#  To do this, add parenthesis ( ) around the username and host in the pattern, \n",
    "#  like this: r'([\\w.-]+)@([\\w.-]+)'. In this case, the parenthesis do not change \n",
    "#  what the pattern will match, instead they establish logical \"groups\" inside of the match text.\n",
    "#  On a successful search, match.group(1) is the match text corresponding to the 1st left parenthesis,\n",
    "#  and match.group(2) is the text corresponding to the 2nd left parenthesis. \n",
    "#  The plain match.group() is still the whole match text as usual.\n",
    "str = 'purple alice-b@google.com monkey dishwasher'\n",
    "match = re.search('([\\w.-]+)@([\\w.-]+)', str)\n",
    "if match:\n",
    "    print match.group()   ## 'alice-b@google.com' (the whole match)\n",
    "    print match.group(1)  ## 'alice-b' (the username, group 1)\n",
    "    print match.group(2)  ## 'google.com' (the host, group 2)"
   ]
  },
  {
   "cell_type": "code",
   "execution_count": null,
   "metadata": {
    "collapsed": true
   },
   "outputs": [],
   "source": []
  }
 ],
 "metadata": {
  "kernelspec": {
   "display_name": "Python 2",
   "language": "python",
   "name": "python2"
  },
  "language_info": {
   "codemirror_mode": {
    "name": "ipython",
    "version": 2
   },
   "file_extension": ".py",
   "mimetype": "text/x-python",
   "name": "python",
   "nbconvert_exporter": "python",
   "pygments_lexer": "ipython2",
   "version": "2.7.13"
  }
 },
 "nbformat": 4,
 "nbformat_minor": 2
}
