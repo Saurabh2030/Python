{
 "cells": [
  {
   "cell_type": "code",
   "execution_count": 1,
   "metadata": {
    "collapsed": true
   },
   "outputs": [],
   "source": [
    "import urllib2"
   ]
  },
  {
   "cell_type": "code",
   "execution_count": 2,
   "metadata": {
    "collapsed": false
   },
   "outputs": [
    {
     "data": {
      "text/plain": [
       "'http://www.nseindia.com/content/historical/EQUITIES/2015/JUL/cm17JUL2015bhav.csv.zip'"
      ]
     },
     "execution_count": 2,
     "metadata": {},
     "output_type": "execute_result"
    }
   ],
   "source": [
    "\n",
    "# initialize a variable with the URL to download, from the website\n",
    "# of the National Stock Exchange of India, which publishes each day a \n",
    "# bunch of interesting market data\n",
    "urlOfFileName = \"http://www.nseindia.com/content/historical/EQUITIES/2015/JUL/cm17JUL2015bhav.csv.zip\"\n",
    "\n",
    "urlOfFileName\n"
   ]
  },
  {
   "cell_type": "code",
   "execution_count": 3,
   "metadata": {
    "collapsed": false
   },
   "outputs": [
    {
     "data": {
      "text/plain": [
       "'G:\\\\Maitreyee\\\\Unanth\\\\Python\\\\Sec4\\\\cm17JUL2015bhav2.csv.zip'"
      ]
     },
     "execution_count": 3,
     "metadata": {},
     "output_type": "execute_result"
    }
   ],
   "source": [
    "# initialize a variable with the local file in which to store the URL\n",
    "# (this is a path on my local desktop)\n",
    "localZipFilePath = \"G:\\Maitreyee\\Unanth\\Python\\Sec4\\cm17JUL2015bhav2.csv.zip\"\n",
    "\n",
    "localZipFilePath"
   ]
  },
  {
   "cell_type": "code",
   "execution_count": 4,
   "metadata": {
    "collapsed": false
   },
   "outputs": [
    {
     "data": {
      "text/plain": [
       "{'Accept': 'text/html, application/xhtml+xml,application/xml;q=0.9,*/*q=0.8',\n",
       " 'Accept-Charset': 'ISO-8859-1;utf-8,q=0.7,*;q=0.3',\n",
       " 'Accept-Encoding': 'none',\n",
       " 'Accept-Language': 'en-US,en;q=0.8',\n",
       " 'Connection': 'keep-alive',\n",
       " 'User-Agent': 'Mozilla/5.0 (X11; Linux x86_64) AppleWebKit/537.11 (KHTML, like Gecko) Chrome/23.0.1271.64 Safari/537.11'}"
      ]
     },
     "execution_count": 4,
     "metadata": {},
     "output_type": "execute_result"
    }
   ],
   "source": [
    "# Now a bit of boilerplate code to actually download the file. The website\n",
    "# of the NSE does not like bots (automated scripts) that attempt to scrape\n",
    "# data from it, so it will block scripts unless they have something called\n",
    "# the user-agent property set in their HTTP headers. Don't worry too much\n",
    "# about what this boilerplate code means, just go along with it:)\n",
    "\n",
    "hdr = {'User-Agent':'Mozilla/5.0 (X11; Linux x86_64) AppleWebKit/537.11 (KHTML, like Gecko) Chrome/23.0.1271.64 Safari/537.11',\n",
    "      'Accept': 'text/html, application/xhtml+xml,application/xml;q=0.9,*/*q=0.8',\n",
    "       'Accept-Charset':'ISO-8859-1;utf-8,q=0.7,*;q=0.3',\n",
    "       'Accept-Encoding':'none',\n",
    "       'Accept-Language':'en-US,en;q=0.8',\n",
    "       'Connection':'keep-alive'\n",
    "      }\n",
    "\n",
    "\n",
    "hdr"
   ]
  },
  {
   "cell_type": "code",
   "execution_count": 5,
   "metadata": {
    "collapsed": true
   },
   "outputs": [],
   "source": [
    "# Now for the code that actually downloads the page and stores to file\n",
    "\n",
    "# Make the web request - just use a web browser like Mozilla or Chrome would\n",
    "# This is where the strange boilerplate code that we just typed out comes in handy\n",
    "webRequest = urllib2.Request(urlOfFileName,headers=hdr)\n"
   ]
  },
  {
   "cell_type": "code",
   "execution_count": 6,
   "metadata": {
    "collapsed": false
   },
   "outputs": [
    {
     "name": "stdout",
     "output_type": "stream",
     "text": [
      "<HTML><HEAD>\n",
      "<TITLE>Access Denied</TITLE>\n",
      "</HEAD><BODY>\n",
      "<H1>Access Denied</H1>\n",
      " \n",
      "You don't have permission to access \"http&#58;&#47;&#47;www&#46;nseindia&#46;com&#47;content&#47;historical&#47;EQUITIES&#47;2015&#47;JUL&#47;cm17JUL2015bhav&#46;csv&#46;zip\" on this server.<P>\n",
      "Reference&#32;&#35;18&#46;e781655f&#46;1493040695&#46;6035cb4\n",
      "</BODY>\n",
      "</HTML>\n",
      "\n",
      "Looks like the file download did not go through, for url =  http://www.nseindia.com/content/historical/EQUITIES/2015/JUL/cm17JUL2015bhav.csv.zip\n"
     ]
    }
   ],
   "source": [
    "# Doing stuff with files is quite error-prone, so let's be careful and \n",
    "# use try/except as safety nets\n",
    "try:\n",
    "    # note that we are now inside the try loop, as the indentation shows\n",
    "    page = urllib2.urlopen(webRequest)\n",
    "    # save the contents of this page into a variable called 'content'\n",
    "    # These contents are literally the zip file from the URL (i.e. what \n",
    "    # we got when we just downloaded the file manually\n",
    "    content = page.read()\n",
    "    # Now save the contents of the zip file to disk locally\n",
    "    # 1. Open the file (barrel)\n",
    "    output = open(localZipFilePath,\"wb\")\n",
    "    # the 'w' indicates that we intend to write, i.e. put stuff into the \n",
    "    # barrel. the 'b' indicates that this is a binary (not a text) file\n",
    "    output.write(bytearray(content))\n",
    "    # 2. In the line above, we actually write contents to the file. \n",
    "    # Note how the function bytearray - from python's libraries - \n",
    "    # knows how to convert this binary file into a bytearray that can\n",
    "    # be written to file.\n",
    "    output.close()\n",
    "    # 3. The barrel (i.e. the file) is closed, sealed shut\n",
    "except urllib2.HTTPError, e:\n",
    "    # we are now in the 'except' portion of the try/except block. This\n",
    "     # code will be executed only if an exception is thrown in the try block\n",
    "    # i.e. if something goes wrong. \n",
    "    # Note how we specifically 'handle' exceptions of the type HTTPError\n",
    "    print e.fp.read()\n",
    "    print \"Looks like the file download did not go through, for url = \",urlOfFileName\n"
   ]
  },
  {
   "cell_type": "code",
   "execution_count": null,
   "metadata": {
    "collapsed": true
   },
   "outputs": [],
   "source": []
  }
 ],
 "metadata": {
  "kernelspec": {
   "display_name": "Python 2",
   "language": "python",
   "name": "python2"
  },
  "language_info": {
   "codemirror_mode": {
    "name": "ipython",
    "version": 2
   },
   "file_extension": ".py",
   "mimetype": "text/x-python",
   "name": "python",
   "nbconvert_exporter": "python",
   "pygments_lexer": "ipython2",
   "version": "2.7.13"
  }
 },
 "nbformat": 4,
 "nbformat_minor": 2
}
