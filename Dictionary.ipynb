{
 "cells": [
  {
   "cell_type": "code",
   "execution_count": 4,
   "metadata": {
    "collapsed": false
   },
   "outputs": [
    {
     "name": "stdout",
     "output_type": "stream",
     "text": [
      "{1: 'apple', 2: 'ball'}\n"
     ]
    }
   ],
   "source": [
    "#A python dictionary is just like an english dictionary. The words are called keys and meaning are called values.\n",
    "# It is an unordered collection of items.Any key of the dictionary is associated (or mapped) to a value.\n",
    "# Items in dictionaries are accessed via keys and not via their position.\n",
    "# While values can be of any data type and can repeat, keys must be of immutable type (string, number or tuple with immutable elements) and must be unique.\n",
    "\n",
    "# empty dictionary\n",
    "my_dict = {}\n",
    "# dictionary with integer keys\n",
    "my_dict = {1: 'apple', 2: 'ball'}\n",
    "print my_dict"
   ]
  },
  {
   "cell_type": "code",
   "execution_count": null,
   "metadata": {
    "collapsed": true
   },
   "outputs": [],
   "source": [
    "#Syntax for Python Dictionary:\n",
    "# Dictionary is listed in curly brackets, inside these curly brackets, keys and values are declared.\n",
    "# Each key is separated from its value by a colon (:) while each element is separated by commas.\n",
    "# Properties of Dictionary Keys\n",
    "# There are two important points while using dictionary keys\n",
    "# More than one entry per key is not allowed ( no duplicate key is allowed)\n",
    "# The values in the dictionary can be of any type while the keys must be immutable like numbers, tuples or strings.\n",
    "# Dictionary keys are case sensitive- Same key name but with the different case are treated as different keys in Python dictionaries.\n",
    "\n"
   ]
  },
  {
   "cell_type": "code",
   "execution_count": 8,
   "metadata": {
    "collapsed": false
   },
   "outputs": [
    {
     "data": {
      "text/plain": [
       "{'egg': 'yes', 'ham': 'yes', 'spam': 'no'}"
      ]
     },
     "execution_count": 8,
     "metadata": {},
     "output_type": "execute_result"
    }
   ],
   "source": [
    "food = {\"ham\" : \"yes\", \"egg\" : \"yes\", \"spam\" : \"no\" }\n",
    "food"
   ]
  },
  {
   "cell_type": "code",
   "execution_count": 5,
   "metadata": {
    "collapsed": false
   },
   "outputs": [
    {
     "name": "stdout",
     "output_type": "stream",
     "text": [
      "{1: [2, 4, 3], 'name': 'John'}\n"
     ]
    }
   ],
   "source": [
    "# dictionary with mixed keys\n",
    "my_dict = {'name': 'John', 1: [2, 4, 3]}\n",
    "print my_dict"
   ]
  },
  {
   "cell_type": "code",
   "execution_count": 6,
   "metadata": {
    "collapsed": false
   },
   "outputs": [
    {
     "name": "stdout",
     "output_type": "stream",
     "text": [
      "{1: 'apple', 2: 'ball'}\n"
     ]
    }
   ],
   "source": [
    "# using dict()\n",
    "my_dict = dict({1:'apple', 2:'ball'})\n",
    "print my_dict"
   ]
  },
  {
   "cell_type": "code",
   "execution_count": 48,
   "metadata": {
    "collapsed": false
   },
   "outputs": [
    {
     "name": "stdout",
     "output_type": "stream",
     "text": [
      "{1: 'apple', 2: 'ball'}\n"
     ]
    }
   ],
   "source": [
    "# from sequence having each item as a pair\n",
    "my_dict = dict([(1,'apple'), (2,'ball')])\n",
    "print my_dict"
   ]
  },
  {
   "cell_type": "code",
   "execution_count": 59,
   "metadata": {
    "collapsed": false
   },
   "outputs": [],
   "source": [
    "#How to access elements from a dictionary?\n",
    "#While indexing is used with other container types to access values, dictionary uses keys. Key can be used either inside square brackets or with the get() method.\n",
    "#The difference while using get() is that it returns None instead of KeyError, if the key is not found.\n",
    "my_dict = {'name':'Jack', 'age': 26}\n"
   ]
  },
  {
   "cell_type": "code",
   "execution_count": 60,
   "metadata": {
    "collapsed": false
   },
   "outputs": [
    {
     "name": "stdout",
     "output_type": "stream",
     "text": [
      "Jack\n"
     ]
    }
   ],
   "source": [
    "print(my_dict['name'])"
   ]
  },
  {
   "cell_type": "code",
   "execution_count": 61,
   "metadata": {
    "collapsed": false
   },
   "outputs": [
    {
     "name": "stdout",
     "output_type": "stream",
     "text": [
      "Jack\n"
     ]
    }
   ],
   "source": [
    "print my_dict.get('name')"
   ]
  },
  {
   "cell_type": "code",
   "execution_count": 62,
   "metadata": {
    "collapsed": false
   },
   "outputs": [
    {
     "data": {
      "text/plain": [
       "{'age': 27, 'name': 'Jack', 'profession': 'SE', 'sex': 'Male'}"
      ]
     },
     "execution_count": 62,
     "metadata": {},
     "output_type": "execute_result"
    }
   ],
   "source": [
    "#How to change or add elements in a dictionary?\n",
    "#Dictionary are mutable. We can add new items or change the value of existing items using assignment operator.\n",
    "#If the key is already present, value gets updated, else a new key: value pair is added to the dictionary.\n",
    "my_dict['age'] = 27\n",
    "my_dict['sex']='Male'\n",
    "my_dict['profession']='SE'\n",
    "my_dict"
   ]
  },
  {
   "cell_type": "code",
   "execution_count": 63,
   "metadata": {
    "collapsed": true
   },
   "outputs": [],
   "source": [
    "my_dict['address'] = 'Downtown' "
   ]
  },
  {
   "cell_type": "code",
   "execution_count": 64,
   "metadata": {
    "collapsed": false
   },
   "outputs": [
    {
     "data": {
      "text/plain": [
       "{'address': 'Downtown',\n",
       " 'age': 27,\n",
       " 'name': 'Jack',\n",
       " 'profession': 'SE',\n",
       " 'sex': 'Male'}"
      ]
     },
     "execution_count": 64,
     "metadata": {},
     "output_type": "execute_result"
    }
   ],
   "source": [
    "#How to delete or remove elements from a dictionary?\n",
    "#We can remove a particular item in a dictionary by using the method pop(). This method removes as item with the provided key and returns the value.\n",
    "#The method, popitem() can be used to remove and return an arbitrary item (key, value) form the dictionary. All the items can be removed at once using the clear() method.\n",
    "#We can also use the del keyword to remove individual items or the entire dictionary itself.\n",
    "my_dict\n"
   ]
  },
  {
   "cell_type": "code",
   "execution_count": 65,
   "metadata": {
    "collapsed": false
   },
   "outputs": [
    {
     "data": {
      "text/plain": [
       "{'address': 'Downtown', 'profession': 'SE', 'sex': 'Male'}"
      ]
     },
     "execution_count": 65,
     "metadata": {},
     "output_type": "execute_result"
    }
   ],
   "source": [
    "# remove an arbitrary item\n",
    "my_dict.popitem()\n",
    "# remove a particular item\n",
    "my_dict.pop('name')\n",
    "my_dict"
   ]
  },
  {
   "cell_type": "code",
   "execution_count": 66,
   "metadata": {
    "collapsed": true
   },
   "outputs": [],
   "source": [
    "# delete a particular item\n",
    "del my_dict['address']"
   ]
  },
  {
   "cell_type": "code",
   "execution_count": 67,
   "metadata": {
    "collapsed": false
   },
   "outputs": [
    {
     "data": {
      "text/plain": [
       "{'profession': 'SE', 'sex': 'Male'}"
      ]
     },
     "execution_count": 67,
     "metadata": {},
     "output_type": "execute_result"
    }
   ],
   "source": [
    "my_dict"
   ]
  },
  {
   "cell_type": "code",
   "execution_count": 69,
   "metadata": {
    "collapsed": false
   },
   "outputs": [],
   "source": [
    "# remove all items\n",
    "my_dict.clear()"
   ]
  },
  {
   "cell_type": "code",
   "execution_count": 70,
   "metadata": {
    "collapsed": true
   },
   "outputs": [],
   "source": [
    "#Merging Dictionaries\n",
    "w={\"house\":\"Haus\",\"cat\":\"Katze\",\"red\":\"rot\"}\n",
    "w1 = {\"red\":\"rouge\",\"blau\":\"bleu\"}\n",
    "w.update(w1)"
   ]
  },
  {
   "cell_type": "code",
   "execution_count": 72,
   "metadata": {
    "collapsed": false
   },
   "outputs": [
    {
     "name": "stdout",
     "output_type": "stream",
     "text": [
      "house\n",
      "blau\n",
      "red\n",
      "cat\n"
     ]
    }
   ],
   "source": [
    "#Iterating over a Dictionary\n",
    "for key in w:\n",
    "\tprint key"
   ]
  },
  {
   "cell_type": "code",
   "execution_count": 5,
   "metadata": {
    "collapsed": false
   },
   "outputs": [
    {
     "name": "stdout",
     "output_type": "stream",
     "text": [
      "Charlie ====== 12\n",
      "Charlie:12\n",
      "Robert ====== 25\n",
      "Robert:25\n",
      "Tiffany ====== 22\n",
      "Tiffany:22\n",
      "Tim ====== 18\n",
      "Tim:18\n"
     ]
    }
   ],
   "source": [
    "Dict = {'Tim': 18,'Charlie':12,'Tiffany':22,'Robert':25}\n",
    "\n",
    "Boys = {'Tim': 18,'Charlie':12,'Robert':25}\n",
    "\n",
    "Girls = {'Tiffany':22}\n",
    "\n",
    "Students = Dict.keys()\n",
    "Students.sort()\n",
    "\n",
    "for S in Students:\n",
    "    print S,\"======\",str(Dict[S])\n",
    "    print\":\".join((S,str(Dict[S])))"
   ]
  },
  {
   "cell_type": "code",
   "execution_count": 1,
   "metadata": {
    "collapsed": false
   },
   "outputs": [
    {
     "name": "stdout",
     "output_type": "stream",
     "text": [
      "{'Tim': 18, 'Robert': 25, 'Charlie': 12}\n",
      "{'Tiffany': 22}\n"
     ]
    }
   ],
   "source": [
    "#Copying dictionary:\n",
    "\n",
    "#You can also copy the entire dictionary to new dictionary. For example, here we have copied our original dictionary \n",
    "#to new dictionary name \"Boys\" and \"Girls\".\n",
    "Dict = {'Tim': 18,'Charlie':12,'Tiffany':22,'Robert':25}\t\n",
    "Boys = {'Tim': 18,'Charlie':12,'Robert':25}\n",
    "Girls = {'Tiffany':22}\t\n",
    "studentX=Boys.copy()\n",
    "studentY=Girls.copy()\n",
    "print studentX\n",
    "print studentY"
   ]
  },
  {
   "cell_type": "code",
   "execution_count": 2,
   "metadata": {
    "collapsed": false
   },
   "outputs": [
    {
     "name": "stdout",
     "output_type": "stream",
     "text": [
      "{'Sarah': 9, 'Tim': 18, 'Tiffany': 22, 'Robert': 25, 'Charlie': 12}\n"
     ]
    }
   ],
   "source": [
    "#Updating Dictionary\n",
    "Dict = {'Tim': 18,'Charlie':12,'Tiffany':22,'Robert':25}\t\n",
    "Dict.update({\"Sarah\":9})\n",
    "print Dict"
   ]
  },
  {
   "cell_type": "code",
   "execution_count": 3,
   "metadata": {
    "collapsed": false
   },
   "outputs": [
    {
     "name": "stdout",
     "output_type": "stream",
     "text": [
      "{'Tim': 18, 'Tiffany': 22, 'Robert': 25}\n"
     ]
    }
   ],
   "source": [
    "#Delete Keys from the dictionary:\n",
    "#Python dictionary gives you the liberty to delete any element from the dictionary list. Suppose you don't want the \n",
    "#name Charlie in the list, so you can delete the key element by following code.\n",
    "Dict = {'Tim': 18,'Charlie':12,'Tiffany':22,'Robert':25}\t\n",
    "del Dict ['Charlie']\n",
    "print Dict\n",
    "\n"
   ]
  },
  {
   "cell_type": "code",
   "execution_count": 4,
   "metadata": {
    "collapsed": false
   },
   "outputs": [
    {
     "name": "stdout",
     "output_type": "stream",
     "text": [
      "Students Name: [('Tim', 18), ('Tiffany', 22), ('Robert', 25), ('Charlie', 12)]\n"
     ]
    }
   ],
   "source": [
    "#Dictionary items() Method\n",
    "#The items() method returns a list of tuple pairs (Keys, Value) in the dictionary.\n",
    "\n",
    "Dict = {'Tim': 18,'Charlie':12,'Tiffany':22,'Robert':25}\t\n",
    "print \"Students Name: %s\" % Dict.items()\n"
   ]
  },
  {
   "cell_type": "code",
   "execution_count": 5,
   "metadata": {
    "collapsed": false
   },
   "outputs": [
    {
     "name": "stdout",
     "output_type": "stream",
     "text": [
      "True\n",
      "True\n",
      "True\n"
     ]
    }
   ],
   "source": [
    "#Check if a given key already exists in a dictionary\n",
    "\n",
    "#For a given list, you can also check whether our child dictionary exists in a main dictionary or not. \n",
    "#Here we have two sub-dictionaries \"Boys\" and \"Girls\", now we want to check whether our dictionary Boys exist in \n",
    "#our main \"Dict\" or not. For that, we use the forloop method with else if method.\n",
    "\n",
    "Dict = {'Tim': 18,'Charlie':12,'Tiffany':22,'Robert':25}\n",
    "\n",
    "Boys = {'Tim': 18,'Charlie':12,'Robert':25}\n",
    "\n",
    "Girls = {'Tiffany':22}\n",
    "\n",
    "for key in Boys.keys():\n",
    "\n",
    "    if key in Dict.keys():\n",
    "        print True\n",
    "    else:       \n",
    "        print False\n",
    "\n",
    "#he forloop in code checks each key in the main dictionary for Boys keys\n",
    "#f it exists in the main dictionary, it should print true or else it should print false\n",
    "#hen you execute the code, it will print \"True\" for three times, as we got three elements in our \"Boys\" dictionary\n",
    "#o it indicates that the \"Boys\" exist in our main dictionary (Dict)\n",
    "\n"
   ]
  },
  {
   "cell_type": "code",
   "execution_count": 6,
   "metadata": {
    "collapsed": false
   },
   "outputs": [
    {
     "name": "stdout",
     "output_type": "stream",
     "text": [
      "Charlie:12\n",
      "Robert:25\n",
      "Tiffany:22\n",
      "Tim:18\n"
     ]
    }
   ],
   "source": [
    "#Sorting the Dictionary\n",
    "Dict = {'Tim': 18,'Charlie':12,'Tiffany':22,'Robert':25}\n",
    "\n",
    "Boys = {'Tim': 18,'Charlie':12,'Robert':25}\n",
    "\n",
    "Girls = {'Tiffany':22}\n",
    "\n",
    "Students = Dict.keys()\n",
    "Students.sort()\n",
    "\n",
    "for S in Students:\n",
    "      print\":\".join((S,str(Dict[S])))"
   ]
  },
  {
   "cell_type": "code",
   "execution_count": 7,
   "metadata": {
    "collapsed": false
   },
   "outputs": [
    {
     "name": "stdout",
     "output_type": "stream",
     "text": [
      "Length : 4\n"
     ]
    }
   ],
   "source": [
    "#Python Dictionary in-built Functions\n",
    "#Dictionary len() Method\n",
    "#The len() function gives the number of pairs in the dictionary.\n",
    "\n",
    "Dict = {'Tim': 18,'Charlie':12,'Tiffany':22,'Robert':25}\t\n",
    "print \"Length : %d\" % len (Dict)\n",
    "\n"
   ]
  },
  {
   "cell_type": "code",
   "execution_count": 8,
   "metadata": {
    "collapsed": false
   },
   "outputs": [
    {
     "name": "stdout",
     "output_type": "stream",
     "text": [
      "variable Type: <type 'dict'>\n"
     ]
    }
   ],
   "source": [
    "#Variable Types:\n",
    "#Python does not require to explicitly declare the reserve memory space; it happens automatically.\n",
    "#The assign values to variable \"=\" equal sign are used. The code to determine the variable type is \" %type (Dict).\"\n",
    "\n",
    "Dict = {'Tim': 18,'Charlie':12,'Tiffany':22,'Robert':25}\t\n",
    "print \"variable Type: %s\" %type (Dict)\n",
    "\n"
   ]
  },
  {
   "cell_type": "code",
   "execution_count": 9,
   "metadata": {
    "collapsed": false
   },
   "outputs": [
    {
     "name": "stdout",
     "output_type": "stream",
     "text": [
      "-1\n"
     ]
    }
   ],
   "source": [
    "#Python List cmp() Method\n",
    "#The compare method cmp() is used in Python to compare values and keys of two dictionaries.\n",
    "#If method returns 0 if both dictionaries are equal, 1 if dic1 > dict2 and -1 if dict1 < dict2.\n",
    "Boys = {'Tim': 18,'Charlie':12,'Robert':25}\n",
    "Girls = {'Tiffany':22}\t\n",
    "print cmp(Girls, Boys)"
   ]
  },
  {
   "cell_type": "code",
   "execution_count": 10,
   "metadata": {
    "collapsed": false
   },
   "outputs": [
    {
     "name": "stdout",
     "output_type": "stream",
     "text": [
      "printable string:{'Tim': 18, 'Tiffany': 22, 'Robert': 25, 'Charlie': 12}\n"
     ]
    }
   ],
   "source": [
    "#Dictionary Str(dict)\n",
    "#With Str() method, you can make a dictionary into a printable string format.\n",
    "Dict = {'Tim': 18,'Charlie':12,'Tiffany':22,'Robert':25}\t\n",
    "print \"printable string:%s\" % str (Dict)\n"
   ]
  },
  {
   "cell_type": "code",
   "execution_count": 11,
   "metadata": {
    "collapsed": true
   },
   "outputs": [],
   "source": [
    "# Summary:\n",
    "     \n",
    "# Dictionaries in a programming language is a type of data-structure used to store information connected in someway.\n",
    "# Python Dictionary are defined into two elements Keys and Values. Dictionaries do not store their information\n",
    "# in any particular order, so you may not get your information back in the same order you entered it.\n",
    "# \n",
    "# Keys will be a single element\n",
    "# Values can be a list or list within a list, numbers, etc.\n",
    "# More than one entry per key is not allowed ( no duplicate key is allowed)\n",
    "# The values in the dictionary can be of any type while the keys must be immutable like numbers, tuples or strings.\n",
    "# Dictionary keys are case sensitive- Same key name but with the different case are treated as different keys in\n",
    "# Python dictionaries."
   ]
  },
  {
   "cell_type": "code",
   "execution_count": null,
   "metadata": {
    "collapsed": true
   },
   "outputs": [],
   "source": [
    "#http://www.guru99.com/python-dictionary-beginners-tutorial.html"
   ]
  }
 ],
 "metadata": {
  "kernelspec": {
   "display_name": "Python 2",
   "language": "python",
   "name": "python2"
  },
  "language_info": {
   "codemirror_mode": {
    "name": "ipython",
    "version": 2
   },
   "file_extension": ".py",
   "mimetype": "text/x-python",
   "name": "python",
   "nbconvert_exporter": "python",
   "pygments_lexer": "ipython2",
   "version": "2.7.13"
  }
 },
 "nbformat": 4,
 "nbformat_minor": 2
}
